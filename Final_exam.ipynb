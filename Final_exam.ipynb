{
 "cells": [
  {
   "cell_type": "markdown",
   "id": "b3f1d884-6ba3-45ed-9858-539c88277f70",
   "metadata": {
    "tags": []
   },
   "source": [
    "# My Jupyter Notebook on IBM Watson Studio"
   ]
  },
  {
   "cell_type": "markdown",
   "id": "326977aa-a92f-47b5-8451-a7c0c94f3ea6",
   "metadata": {
    "tags": []
   },
   "source": [
    "**Bence Damina** <br>\n",
    "Business Informatics Student"
   ]
  },
  {
   "cell_type": "markdown",
   "id": "7eea7877-84f6-411e-bca7-9495583d165c",
   "metadata": {},
   "source": [
    "*I would like to explore connections between data in the economic field. I'd like to understand how economy works*"
   ]
  },
  {
   "cell_type": "markdown",
   "id": "550e9947-a152-4d5e-bf27-a99a8da69255",
   "metadata": {},
   "source": [
    "### This code is going to print the squares of the first 10 positive numbers."
   ]
  },
  {
   "cell_type": "code",
   "execution_count": 5,
   "id": "2de48787-8619-4a38-970a-412ddcf7e914",
   "metadata": {},
   "outputs": [
    {
     "name": "stdout",
     "output_type": "stream",
     "text": [
      "1\n",
      "4\n",
      "9\n",
      "16\n",
      "25\n",
      "36\n",
      "49\n",
      "64\n",
      "81\n",
      "100\n"
     ]
    }
   ],
   "source": [
    "for i in range(1, 11):\n",
    "    print(i * i)"
   ]
  },
  {
   "cell_type": "markdown",
   "id": "b2d842b3-89ff-4089-be4b-45ed2e089e9c",
   "metadata": {},
   "source": [
    "Using Markdown or HTML, this cell must include at least 3 of the following: horizontal rule, bulleted list, numbered list, tables, hyperlinks, images, code/syntax highlighting, blocked quotes, strikethrough."
   ]
  },
  {
   "cell_type": "markdown",
   "id": "f8d62020-4364-47d6-b59a-8258ed607a51",
   "metadata": {},
   "source": [
    "<html>\n",
    "<hr>\n",
    "<ul>\n",
    "    <li>One</li>\n",
    "    <li>Two</li>\n",
    "    <li>Three</li>\n",
    "    <li>Four</li>\n",
    "    <li>Five</li>\n",
    "</ul>\n",
    "<ol>\n",
    "    <li>Asia</li>\n",
    "    <li>Europe</li>\n",
    "    <li>North-America</li>\n",
    "    <li>South-America</li>\n",
    "    <li>Africa</li>\n",
    "    <li>Australia</li>\n",
    "    <li>Antarctica</li>\n",
    "</ol>\n",
    "<table>\n",
    "    <tr>\n",
    "        <th>First</th>\n",
    "        <th>Second</th>\n",
    "        <th>Third</th>\n",
    "    </tr>\n",
    "    <tr>\n",
    "        <td>Kylian</td>\n",
    "        <td>Alphonso</td>\n",
    "        <td>Marcus</td>\n",
    "    </tr>\n",
    "    <tr>\n",
    "        <td>Mpabbe</td>\n",
    "        <td>Davies</td>\n",
    "        <td>Rashford</td>\n",
    "    </tr>\n",
    "</table>\n",
    "<a href = \"https://www.ibm.com\"> www.ibm.com </a>\n",
    "</html>\n"
   ]
  }
 ],
 "metadata": {
  "kernelspec": {
   "display_name": "Python",
   "language": "python",
   "name": "conda-env-python-py"
  },
  "language_info": {
   "codemirror_mode": {
    "name": "ipython",
    "version": 3
   },
   "file_extension": ".py",
   "mimetype": "text/x-python",
   "name": "python",
   "nbconvert_exporter": "python",
   "pygments_lexer": "ipython3",
   "version": "3.7.12"
  }
 },
 "nbformat": 4,
 "nbformat_minor": 5
}
